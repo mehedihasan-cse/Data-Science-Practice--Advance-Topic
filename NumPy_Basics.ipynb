{
  "cells": [
    {
      "cell_type": "markdown",
      "metadata": {
        "id": "view-in-github",
        "colab_type": "text"
      },
      "source": [
        "<a href=\"https://colab.research.google.com/github/mehedihasan-cse/Data-Science-Practice--Advance-Topic/blob/main/NumPy_Basics.ipynb\" target=\"_parent\"><img src=\"https://colab.research.google.com/assets/colab-badge.svg\" alt=\"Open In Colab\"/></a>"
      ]
    },
    {
      "cell_type": "markdown",
      "metadata": {
        "id": "Bzwm2kwcCFh-"
      },
      "source": [
        "# NumPy Essentials Practice Exercises Overview:\n",
        "Time to test the knowledge on NumPy. Lets start with simple task and move on to more challenging ones!<br>\n",
        "**Good Luck**<br>\n",
        "\n",
        "&#9758; *Please note, there are several ways to get the required output, so your code could be different then what is provided in this notebook. <br>As long as you are getting the tasks done, it is fine at this stage. *"
      ]
    },
    {
      "cell_type": "markdown",
      "metadata": {
        "id": "LA4iB81OCFiD"
      },
      "source": [
        "**1. What is the major difference between \"`Vector`\" and \"`Matrix`\"?**"
      ]
    },
    {
      "cell_type": "code",
      "execution_count": null,
      "metadata": {
        "collapsed": true,
        "id": "urctjtWjCFiE"
      },
      "outputs": [],
      "source": [
        "# A vector is a one-dimensional array of numbers, while a matrix is a two-dimensional array of numbers."
      ]
    },
    {
      "cell_type": "markdown",
      "metadata": {
        "id": "UdM4KxBnCFiH"
      },
      "source": [
        "**2. How to import `NumPy` library?**"
      ]
    },
    {
      "cell_type": "code",
      "execution_count": null,
      "metadata": {
        "collapsed": true,
        "id": "fgJuH28kCFiI"
      },
      "outputs": [],
      "source": [
        "import numpy as np\n"
      ]
    },
    {
      "cell_type": "code",
      "execution_count": null,
      "metadata": {
        "collapsed": true,
        "id": "5MC4KJ2-CFiJ"
      },
      "outputs": [],
      "source": []
    },
    {
      "cell_type": "markdown",
      "metadata": {
        "id": "MrYamB9YCFiJ"
      },
      "source": [
        "**3. Convert the given Python list into NumPy array and check its data type**"
      ]
    },
    {
      "cell_type": "code",
      "execution_count": null,
      "metadata": {
        "collapsed": true,
        "id": "4SxvTjBVCFiJ"
      },
      "outputs": [],
      "source": [
        "list_1 = [1,2,3,4,5]"
      ]
    },
    {
      "cell_type": "code",
      "execution_count": null,
      "metadata": {
        "collapsed": true,
        "colab": {
          "base_uri": "https://localhost:8080/"
        },
        "id": "GO_h7DNfCFiK",
        "outputId": "7b5b982d-b5e8-4291-f670-f4d16f9ec42a"
      },
      "outputs": [
        {
          "output_type": "execute_result",
          "data": {
            "text/plain": [
              "(array([1, 2, 3, 4, 5]), numpy.ndarray)"
            ]
          },
          "metadata": {},
          "execution_count": 1
        }
      ],
      "source": [
        "import numpy as np\n",
        "list_1 = [1,2,3,4,5]\n",
        "my_array = np.array(list_1)\n",
        "my_array, type(my_array)"
      ]
    },
    {
      "cell_type": "code",
      "execution_count": null,
      "metadata": {
        "id": "KJDlGKP5CFiK",
        "outputId": "fcac904f-47cd-4d48-bd27-36a6342570b5"
      },
      "outputs": [
        {
          "data": {
            "text/plain": [
              "(array([1, 2, 3, 4, 5]), numpy.ndarray)"
            ]
          },
          "execution_count": 6,
          "metadata": {},
          "output_type": "execute_result"
        }
      ],
      "source": []
    },
    {
      "cell_type": "markdown",
      "metadata": {
        "id": "aEmHIpdJCFiM"
      },
      "source": [
        "**4. Generate `array [0,1,2,3,4,5]` using NumPy built-in function, `arange()`**"
      ]
    },
    {
      "cell_type": "code",
      "execution_count": null,
      "metadata": {
        "collapsed": true,
        "colab": {
          "base_uri": "https://localhost:8080/"
        },
        "id": "yiN1QEOTCFiN",
        "outputId": "0e3e2079-cee6-4198-9fe8-8a13ccab8f31"
      },
      "outputs": [
        {
          "output_type": "execute_result",
          "data": {
            "text/plain": [
              "array([0, 1, 2, 3, 4, 5])"
            ]
          },
          "metadata": {},
          "execution_count": 2
        }
      ],
      "source": [
        "import numpy as np\n",
        "np.arange(6)"
      ]
    },
    {
      "cell_type": "code",
      "execution_count": null,
      "metadata": {
        "id": "_w0HwEoPCFiN",
        "outputId": "26d2e402-2766-4470-bc75-7a8999711e31"
      },
      "outputs": [
        {
          "data": {
            "text/plain": [
              "array([0, 1, 2, 3, 4, 5])"
            ]
          },
          "execution_count": 8,
          "metadata": {},
          "output_type": "execute_result"
        }
      ],
      "source": []
    },
    {
      "cell_type": "markdown",
      "metadata": {
        "id": "TBLku1a6CFiO"
      },
      "source": [
        "**5. Generate an `array of \"5\" zeros` **"
      ]
    },
    {
      "cell_type": "code",
      "execution_count": null,
      "metadata": {
        "collapsed": true,
        "colab": {
          "base_uri": "https://localhost:8080/"
        },
        "id": "bVMHx1IvCFiO",
        "outputId": "b9241d26-e835-41a9-a9db-287451e92bb5"
      },
      "outputs": [
        {
          "output_type": "execute_result",
          "data": {
            "text/plain": [
              "array([0., 0., 0., 0., 0.])"
            ]
          },
          "metadata": {},
          "execution_count": 3
        }
      ],
      "source": [
        "import numpy as np\n",
        "np.zeros(5)"
      ]
    },
    {
      "cell_type": "code",
      "execution_count": null,
      "metadata": {
        "id": "gM3VVNc6CFiO",
        "outputId": "a8396e63-4575-4809-f12d-6127e9cb3f68"
      },
      "outputs": [
        {
          "data": {
            "text/plain": [
              "array([ 0.,  0.,  0.,  0.,  0.])"
            ]
          },
          "execution_count": 10,
          "metadata": {},
          "output_type": "execute_result"
        }
      ],
      "source": []
    },
    {
      "cell_type": "markdown",
      "metadata": {
        "id": "5kvhxLSFCFiP"
      },
      "source": [
        "**6. Generate the following `matrix`.**"
      ]
    },
    {
      "cell_type": "code",
      "execution_count": null,
      "metadata": {
        "collapsed": true,
        "colab": {
          "base_uri": "https://localhost:8080/"
        },
        "id": "9G-cKvHgCFiP",
        "outputId": "9d746807-d645-4c20-ee2a-a095a42907f3"
      },
      "outputs": [
        {
          "output_type": "execute_result",
          "data": {
            "text/plain": [
              "array([[0., 0., 0., 0.],\n",
              "       [0., 0., 0., 0.],\n",
              "       [0., 0., 0., 0.]])"
            ]
          },
          "metadata": {},
          "execution_count": 4
        }
      ],
      "source": [
        "import numpy as np\n",
        "array_arange = np.zeros(12)\n",
        "array_arange.reshape(3,4)"
      ]
    },
    {
      "cell_type": "code",
      "execution_count": null,
      "metadata": {
        "id": "gcWq8-DFCFiP",
        "outputId": "26f9dc10-9d9a-4b97-9cf4-139bd3ce363a"
      },
      "outputs": [
        {
          "data": {
            "text/plain": [
              "array([[ 0.,  0.,  0.,  0.],\n",
              "       [ 0.,  0.,  0.,  0.],\n",
              "       [ 0.,  0.,  0.,  0.]])"
            ]
          },
          "execution_count": 12,
          "metadata": {},
          "output_type": "execute_result"
        }
      ],
      "source": []
    },
    {
      "cell_type": "markdown",
      "metadata": {
        "id": "6xQzvuukCFiQ"
      },
      "source": [
        "**7. Generate** `[1.,1.,1.,1.,1.]` **using NumPy built-in function?**"
      ]
    },
    {
      "cell_type": "code",
      "execution_count": null,
      "metadata": {
        "collapsed": true,
        "id": "7Q20WerXCFiQ",
        "colab": {
          "base_uri": "https://localhost:8080/"
        },
        "outputId": "f6c482ab-4fa4-4f83-ec5a-f6e589d8e45d"
      },
      "outputs": [
        {
          "output_type": "execute_result",
          "data": {
            "text/plain": [
              "array([1., 1., 1., 1., 1.])"
            ]
          },
          "metadata": {},
          "execution_count": 8
        }
      ],
      "source": [
        "import numpy as np\n",
        "array_arange = np.ones(5)\n",
        "array_arange"
      ]
    },
    {
      "cell_type": "code",
      "execution_count": null,
      "metadata": {
        "id": "pgNtTo0sCFiQ",
        "outputId": "f5e50d19-ee63-4164-8de6-3f581d12abd3"
      },
      "outputs": [
        {
          "name": "stdout",
          "output_type": "stream",
          "text": [
            "[ 1.  1.  1.  1.  1.]\n"
          ]
        }
      ],
      "source": []
    },
    {
      "cell_type": "markdown",
      "metadata": {
        "id": "apnuENCVCFiQ"
      },
      "source": [
        "**8. Generate an array of \"5\" tens.**"
      ]
    },
    {
      "cell_type": "code",
      "execution_count": null,
      "metadata": {
        "collapsed": true,
        "id": "7uyeiWk-CFiR",
        "colab": {
          "base_uri": "https://localhost:8080/"
        },
        "outputId": "7fe068ae-06df-437a-bf7b-f144b82570f9"
      },
      "outputs": [
        {
          "output_type": "execute_result",
          "data": {
            "text/plain": [
              "array([10., 10., 10., 10., 10.])"
            ]
          },
          "metadata": {},
          "execution_count": 12
        }
      ],
      "source": [
        "import numpy as np\n",
        "tens_array = np.full(5, 10.0)\n",
        "tens_array"
      ]
    },
    {
      "cell_type": "code",
      "execution_count": null,
      "metadata": {
        "id": "NWaYRSeyCFiR",
        "outputId": "734e69f0-3c3b-4f79-cd73-a77eb005c64f"
      },
      "outputs": [
        {
          "data": {
            "text/plain": [
              "array([10., 10., 10., 10., 10.])"
            ]
          },
          "execution_count": 1,
          "metadata": {},
          "output_type": "execute_result"
        }
      ],
      "source": []
    },
    {
      "cell_type": "markdown",
      "metadata": {
        "id": "FSskfiCXCFiR"
      },
      "source": [
        "**9. Use `arange()` to generate an array of even numbers between 50 and 100.**<br>\n",
        "*50 and 100 are not included*"
      ]
    },
    {
      "cell_type": "code",
      "execution_count": null,
      "metadata": {
        "collapsed": true,
        "id": "UfZcylLNCFiS",
        "colab": {
          "base_uri": "https://localhost:8080/"
        },
        "outputId": "05ba5a13-ef9a-41a6-9d9a-50df22aa1d89"
      },
      "outputs": [
        {
          "output_type": "execute_result",
          "data": {
            "text/plain": [
              "array([52, 54, 56, 58, 60, 62, 64, 66, 68, 70, 72, 74, 76, 78, 80, 82, 84,\n",
              "       86, 88, 90, 92, 94, 96, 98])"
            ]
          },
          "metadata": {},
          "execution_count": 15
        }
      ],
      "source": [
        "import numpy as np\n",
        "array_arange = np.arange(52,100, 2)\n",
        "array_arange"
      ]
    },
    {
      "cell_type": "code",
      "execution_count": null,
      "metadata": {
        "id": "A8FtK_zACFiS",
        "outputId": "972954cb-3e89-41c4-df55-17d0b23724ce"
      },
      "outputs": [
        {
          "data": {
            "text/plain": [
              "array([52, 54, 56, 58, 60, 62, 64, 66, 68, 70, 72, 74, 76, 78, 80, 82, 84,\n",
              "       86, 88, 90, 92, 94, 96, 98])"
            ]
          },
          "execution_count": 18,
          "metadata": {},
          "output_type": "execute_result"
        }
      ],
      "source": []
    },
    {
      "cell_type": "markdown",
      "metadata": {
        "id": "tv6ZDgj5CFiS"
      },
      "source": [
        "**10. Generate an array of 10 linearly spaced points between 0 and 1.**<br>\n",
        "**Output step size as well?**"
      ]
    },
    {
      "cell_type": "code",
      "execution_count": null,
      "metadata": {
        "collapsed": true,
        "id": "IolaQVA9CFiS",
        "colab": {
          "base_uri": "https://localhost:8080/"
        },
        "outputId": "e113bd67-e067-43f9-e63c-a3fe77511855"
      },
      "outputs": [
        {
          "output_type": "execute_result",
          "data": {
            "text/plain": [
              "(array([0.        , 0.11111111, 0.22222222, 0.33333333, 0.44444444,\n",
              "        0.55555556, 0.66666667, 0.77777778, 0.88888889, 1.        ]),\n",
              " 0.1111111111111111)"
            ]
          },
          "metadata": {},
          "execution_count": 24
        }
      ],
      "source": [
        "import numpy as np\n",
        "np_linspace = np.linspace(0, 1, 10, retstep=True)\n",
        "np_linspace"
      ]
    },
    {
      "cell_type": "code",
      "execution_count": null,
      "metadata": {
        "id": "A0bThIKFCFiT",
        "outputId": "b5e401b4-9878-490b-9a94-87c97e9a1896"
      },
      "outputs": [
        {
          "data": {
            "text/plain": [
              "(array([ 0.        ,  0.11111111,  0.22222222,  0.33333333,  0.44444444,\n",
              "         0.55555556,  0.66666667,  0.77777778,  0.88888889,  1.        ]),\n",
              " 0.1111111111111111)"
            ]
          },
          "execution_count": 20,
          "metadata": {},
          "output_type": "execute_result"
        }
      ],
      "source": []
    },
    {
      "cell_type": "markdown",
      "metadata": {
        "id": "Yqn-jZfICFiT"
      },
      "source": [
        "**11. Perform the following tasks:**\n",
        "* Generate a **`vector array of 25`** numbers using **`arange()`**\n",
        "* write a code to convert the vector array into **`2-D matrix using reshape`**\n",
        "* can we use **`shape`** instead of reshape as well?"
      ]
    },
    {
      "cell_type": "code",
      "execution_count": null,
      "metadata": {
        "collapsed": true,
        "id": "hqKzi4hrCFiT",
        "colab": {
          "base_uri": "https://localhost:8080/"
        },
        "outputId": "9c81d3f8-4d0a-432a-d68f-0b61b1c72040"
      },
      "outputs": [
        {
          "output_type": "execute_result",
          "data": {
            "text/plain": [
              "array([ 0,  1,  2,  3,  4,  5,  6,  7,  8,  9, 10, 11, 12, 13, 14, 15, 16,\n",
              "       17, 18, 19, 20, 21, 22, 23, 24])"
            ]
          },
          "metadata": {},
          "execution_count": 30
        }
      ],
      "source": [
        "import numpy as np\n",
        "vector_array= np.arange(25)\n",
        "vector_array\n"
      ]
    },
    {
      "cell_type": "code",
      "execution_count": null,
      "metadata": {
        "scrolled": true,
        "id": "5LoeaPBXCFiU",
        "outputId": "e163546d-08df-4f04-97d3-d9c55e3408b6"
      },
      "outputs": [
        {
          "data": {
            "text/plain": [
              "array([ 0,  1,  2,  3,  4,  5,  6,  7,  8,  9, 10, 11, 12, 13, 14, 15, 16,\n",
              "       17, 18, 19, 20, 21, 22, 23, 24])"
            ]
          },
          "execution_count": 22,
          "metadata": {},
          "output_type": "execute_result"
        }
      ],
      "source": [
        "# Generating vector array"
      ]
    },
    {
      "cell_type": "code",
      "execution_count": null,
      "metadata": {
        "collapsed": true,
        "id": "LAb-sFZJCFiU",
        "colab": {
          "base_uri": "https://localhost:8080/"
        },
        "outputId": "5de94d68-4134-4808-adfa-228ed0e98449"
      },
      "outputs": [
        {
          "output_type": "execute_result",
          "data": {
            "text/plain": [
              "array([[ 0,  1,  2,  3,  4],\n",
              "       [ 5,  6,  7,  8,  9],\n",
              "       [10, 11, 12, 13, 14],\n",
              "       [15, 16, 17, 18, 19],\n",
              "       [20, 21, 22, 23, 24]])"
            ]
          },
          "metadata": {},
          "execution_count": 33
        }
      ],
      "source": [
        "vector_array = vector_array.reshape(5,5)\n",
        "vector_array"
      ]
    },
    {
      "cell_type": "code",
      "execution_count": null,
      "metadata": {
        "scrolled": true,
        "id": "QrY4xfnBCFiV",
        "outputId": "5d877546-aa57-4c56-f5a8-c2c8f59dde6f"
      },
      "outputs": [
        {
          "data": {
            "text/plain": [
              "array([[ 0,  1,  2,  3,  4],\n",
              "       [ 5,  6,  7,  8,  9],\n",
              "       [10, 11, 12, 13, 14],\n",
              "       [15, 16, 17, 18, 19],\n",
              "       [20, 21, 22, 23, 24]])"
            ]
          },
          "execution_count": 24,
          "metadata": {},
          "output_type": "execute_result"
        }
      ],
      "source": [
        "# reshape to convert into 2-d"
      ]
    },
    {
      "cell_type": "code",
      "execution_count": null,
      "metadata": {
        "collapsed": true,
        "id": "djv3VfskCFiV",
        "colab": {
          "base_uri": "https://localhost:8080/"
        },
        "outputId": "db51e896-6e9d-4a04-d08d-8b6f4c758744"
      },
      "outputs": [
        {
          "output_type": "execute_result",
          "data": {
            "text/plain": [
              "array([[ 0,  1,  2,  3,  4],\n",
              "       [ 5,  6,  7,  8,  9],\n",
              "       [10, 11, 12, 13, 14],\n",
              "       [15, 16, 17, 18, 19],\n",
              "       [20, 21, 22, 23, 24]])"
            ]
          },
          "metadata": {},
          "execution_count": 35
        }
      ],
      "source": [
        "vector_array.shape= (5,5)\n",
        "vector_array"
      ]
    },
    {
      "cell_type": "code",
      "execution_count": null,
      "metadata": {
        "scrolled": true,
        "id": "SKHGzC-cCFiV",
        "outputId": "49a0afea-641f-439d-cb6f-047b95493079"
      },
      "outputs": [
        {
          "data": {
            "text/plain": [
              "array([[ 0,  1,  2,  3,  4],\n",
              "       [ 5,  6,  7,  8,  9],\n",
              "       [10, 11, 12, 13, 14],\n",
              "       [15, 16, 17, 18, 19],\n",
              "       [20, 21, 22, 23, 24]])"
            ]
          },
          "execution_count": 26,
          "metadata": {},
          "output_type": "execute_result"
        }
      ],
      "source": [
        "# Using shape"
      ]
    },
    {
      "cell_type": "markdown",
      "metadata": {
        "id": "8cXfWsDKCFiW"
      },
      "source": [
        "**12. Please generate the following matrix.**"
      ]
    },
    {
      "cell_type": "code",
      "execution_count": null,
      "metadata": {
        "collapsed": true,
        "id": "fYR-FHPsCFim",
        "colab": {
          "base_uri": "https://localhost:8080/"
        },
        "outputId": "cbccabd4-22ba-49d2-fea9-2a12bb83d83f"
      },
      "outputs": [
        {
          "output_type": "execute_result",
          "data": {
            "text/plain": [
              "array([[0.1, 0.2, 0.3, 0.4, 0.5],\n",
              "       [0.6, 0.7, 0.8, 0.9, 1. ],\n",
              "       [1.1, 1.2, 1.3, 1.4, 1.5],\n",
              "       [1.6, 1.7, 1.8, 1.9, 2. ],\n",
              "       [2.1, 2.2, 2.3, 2.4, 2.5]])"
            ]
          },
          "metadata": {},
          "execution_count": 48
        }
      ],
      "source": [
        "x = np.arange(.1,2.6, 0.1 , dtype=float)\n",
        "x\n",
        "x = x.reshape(5,5)\n",
        "x\n"
      ]
    },
    {
      "cell_type": "markdown",
      "source": [],
      "metadata": {
        "id": "GSD_q-FbIuzd"
      }
    },
    {
      "cell_type": "code",
      "execution_count": null,
      "metadata": {
        "scrolled": false,
        "id": "-B8LiwqGCFim",
        "outputId": "9f336575-c53b-4743-ccde-39f26fb0a26d"
      },
      "outputs": [
        {
          "data": {
            "text/plain": [
              "array([[0.1, 0.2, 0.3, 0.4, 0.5],\n",
              "       [0.6, 0.7, 0.8, 0.9, 1. ],\n",
              "       [1.1, 1.2, 1.3, 1.4, 1.5],\n",
              "       [1.6, 1.7, 1.8, 1.9, 2. ],\n",
              "       [2.1, 2.2, 2.3, 2.4, 2.5]])"
            ]
          },
          "execution_count": 14,
          "metadata": {},
          "output_type": "execute_result"
        }
      ],
      "source": []
    },
    {
      "cell_type": "markdown",
      "metadata": {
        "id": "fEtxlh8TCFim"
      },
      "source": [
        "**13. Write a code to generate the output below, use \"`linspace()`\" and \"`print()`\"**"
      ]
    },
    {
      "cell_type": "code",
      "execution_count": null,
      "metadata": {
        "collapsed": true,
        "id": "VDhE6h_ICFim",
        "colab": {
          "base_uri": "https://localhost:8080/"
        },
        "outputId": "f834a688-44a6-48bf-8bc0-8a49137adb5c"
      },
      "outputs": [
        {
          "output_type": "execute_result",
          "data": {
            "text/plain": [
              "array([[ 0,  1,  2,  3,  4],\n",
              "       [ 5,  6,  7,  8,  9],\n",
              "       [10, 11, 12, 13, 14],\n",
              "       [15, 16, 17, 18, 19],\n",
              "       [20, 21, 22, 23, 24]])"
            ]
          },
          "metadata": {},
          "execution_count": 62
        }
      ],
      "source": [
        "x= np.linspace(0,24, 25, dtype=int)\n",
        "x\n",
        "x= x.reshape(5,5)\n",
        "x"
      ]
    },
    {
      "cell_type": "code",
      "execution_count": null,
      "metadata": {
        "id": "gllb-o16CFin",
        "outputId": "d68c90a0-8b23-4f30-9d68-d6d161f3c983"
      },
      "outputs": [
        {
          "data": {
            "text/plain": [
              "array([[ 0,  1,  2,  3,  4],\n",
              "       [ 5,  6,  7,  8,  9],\n",
              "       [10, 11, 12, 13, 14],\n",
              "       [15, 16, 17, 18, 19],\n",
              "       [20, 21, 22, 23, 24]])"
            ]
          },
          "execution_count": 27,
          "metadata": {},
          "output_type": "execute_result"
        }
      ],
      "source": []
    },
    {
      "cell_type": "markdown",
      "metadata": {
        "id": "LVwXkHH2CFin"
      },
      "source": [
        "**14. What is the main difference between `linspace()` and `arange()`?**"
      ]
    },
    {
      "cell_type": "code",
      "execution_count": null,
      "metadata": {
        "collapsed": true,
        "id": "XrhEyIc9CFin"
      },
      "outputs": [],
      "source": [
        "# The main difference between linspace() and arange() in NumPy lies in how they handle the specification of the range of values.\n",
        "\n",
        "# arange() takes 3rd argument as step size.\n",
        "# import numpy as np\n",
        "# arr = np.arange(0, 10, 2)\n",
        "# print(arr)\n",
        "\n",
        "\n",
        "# linspace() take 3rd argument as no of point we want.\n",
        "# import numpy as np\n",
        "# arr = np.linspace(0, 10, 5)\n",
        "# print(arr)\n"
      ]
    },
    {
      "cell_type": "markdown",
      "metadata": {
        "id": "PyL7ZiEdCFin"
      },
      "source": [
        "**15. How to generate a single random integer number using NumPy built-in function?**"
      ]
    },
    {
      "cell_type": "code",
      "execution_count": null,
      "metadata": {
        "collapsed": true,
        "id": "ZE1XMuh_CFio",
        "colab": {
          "base_uri": "https://localhost:8080/"
        },
        "outputId": "11dc3c21-7126-4a26-e36f-5f0d7787b4af"
      },
      "outputs": [
        {
          "output_type": "execute_result",
          "data": {
            "text/plain": [
              "array([58])"
            ]
          },
          "metadata": {},
          "execution_count": 66
        }
      ],
      "source": [
        "np.random.randint(1,100,1)"
      ]
    },
    {
      "cell_type": "code",
      "execution_count": null,
      "metadata": {
        "id": "zM4i9rwfCFio"
      },
      "outputs": [],
      "source": []
    },
    {
      "cell_type": "markdown",
      "metadata": {
        "id": "Ee-xa6CVCFio"
      },
      "source": [
        "**16. Write a code to generate a 7x5 matrix of 35 random numbers? use rand here** <br>\n",
        "*Notice, there are no ( ) in the output matrix!*"
      ]
    },
    {
      "cell_type": "code",
      "execution_count": null,
      "metadata": {
        "collapsed": true,
        "id": "df_mTARYCFip",
        "colab": {
          "base_uri": "https://localhost:8080/"
        },
        "outputId": "ea9f5406-26bd-4cc6-edd6-f3b445b8f366"
      },
      "outputs": [
        {
          "output_type": "stream",
          "name": "stdout",
          "text": [
            "[[0.17641951 0.42833308 0.77517907 0.1616678  0.36631475]\n",
            " [0.99038731 0.88045404 0.49875071 0.41562352 0.85996463]\n",
            " [0.84578164 0.92382894 0.90798958 0.22703892 0.5768509 ]\n",
            " [0.71539173 0.7191561  0.91699948 0.57132395 0.48196083]\n",
            " [0.3325167  0.98300243 0.17742411 0.47176646 0.11331294]\n",
            " [0.90648987 0.85982983 0.14314961 0.74510918 0.0180969 ]\n",
            " [0.95254933 0.40758747 0.03479106 0.5261119  0.66528181]]\n"
          ]
        }
      ],
      "source": [
        "rand_matrix = np.random.rand(7,5)\n",
        "print(rand_matrix)"
      ]
    },
    {
      "cell_type": "code",
      "execution_count": null,
      "metadata": {
        "id": "P1adfRTeCFip"
      },
      "outputs": [],
      "source": []
    },
    {
      "cell_type": "markdown",
      "metadata": {
        "id": "8MlW1K6QCFiq"
      },
      "source": [
        "**17. Generate the following matrix using NumPy's built-in method for identity matrix.**"
      ]
    },
    {
      "cell_type": "code",
      "execution_count": null,
      "metadata": {
        "collapsed": true,
        "id": "g24gwM3hCFiq"
      },
      "outputs": [],
      "source": [
        "# To avoid overwriting the output, please code here"
      ]
    },
    {
      "cell_type": "code",
      "execution_count": null,
      "metadata": {
        "id": "KzCgH64GCFiq",
        "outputId": "37caa7a8-d09e-4347-fe51-c9910a78c20d",
        "colab": {
          "base_uri": "https://localhost:8080/"
        }
      },
      "outputs": [
        {
          "output_type": "execute_result",
          "data": {
            "text/plain": [
              "array([[5., 0., 0., 0., 0.],\n",
              "       [0., 5., 0., 0., 0.],\n",
              "       [0., 0., 5., 0., 0.],\n",
              "       [0., 0., 0., 5., 0.],\n",
              "       [0., 0., 0., 0., 5.]])"
            ]
          },
          "metadata": {},
          "execution_count": 92
        }
      ],
      "source": [
        "x= 5* np.identity(5)\n",
        "x"
      ]
    },
    {
      "cell_type": "markdown",
      "metadata": {
        "collapsed": true,
        "id": "tNMByHC5CFiq"
      },
      "source": [
        "### You must be feeling comfortable using NumPy now!\n",
        "# Great Job and Good Luck"
      ]
    }
  ],
  "metadata": {
    "kernelspec": {
      "display_name": "Python 3 (ipykernel)",
      "language": "python",
      "name": "python3"
    },
    "language_info": {
      "codemirror_mode": {
        "name": "ipython",
        "version": 3
      },
      "file_extension": ".py",
      "mimetype": "text/x-python",
      "name": "python",
      "nbconvert_exporter": "python",
      "pygments_lexer": "ipython3",
      "version": "3.11.5"
    },
    "colab": {
      "provenance": [],
      "include_colab_link": true
    }
  },
  "nbformat": 4,
  "nbformat_minor": 0
}