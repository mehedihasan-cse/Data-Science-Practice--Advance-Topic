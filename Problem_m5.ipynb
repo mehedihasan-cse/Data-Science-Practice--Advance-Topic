{
  "nbformat": 4,
  "nbformat_minor": 0,
  "metadata": {
    "colab": {
      "provenance": [],
      "authorship_tag": "ABX9TyMzLXj7sawU2jHPagZga3EB",
      "include_colab_link": true
    },
    "kernelspec": {
      "name": "python3",
      "display_name": "Python 3"
    },
    "language_info": {
      "name": "python"
    }
  },
  "cells": [
    {
      "cell_type": "markdown",
      "metadata": {
        "id": "view-in-github",
        "colab_type": "text"
      },
      "source": [
        "<a href=\"https://colab.research.google.com/github/mehedihasan-cse/Data-Science-Practice--Advance-Topic/blob/main/Problem_m5.ipynb\" target=\"_parent\"><img src=\"https://colab.research.google.com/assets/colab-badge.svg\" alt=\"Open In Colab\"/></a>"
      ]
    },
    {
      "cell_type": "markdown",
      "source": [
        "Generate an array of 100 linearly spaced points between 50 and 60\n",
        "\n",
        "Then covert the vector array to matrix array by (10, 10)\n",
        "\n",
        "Then perform the operation, array % 5 == 0"
      ],
      "metadata": {
        "id": "ZC5TjNjaNEc1"
      }
    },
    {
      "cell_type": "code",
      "execution_count": null,
      "metadata": {
        "id": "dLT0FYkXMvFO"
      },
      "outputs": [],
      "source": [
        "# Generate an array of 100 linearly spaced points between 50 and 60\n",
        "\n",
        "import numpy as np\n",
        "ln_array = np.linspace(50,60, 100)\n",
        "ln_array"
      ]
    },
    {
      "cell_type": "code",
      "source": [
        "# Then covert the vector array to matrix array by (10, 10)\n",
        "\n",
        "\n",
        "mat_array= ln_array.reshape(10,10)\n",
        "mat_array"
      ],
      "metadata": {
        "id": "o9QT5CGQPXLa"
      },
      "execution_count": null,
      "outputs": []
    },
    {
      "cell_type": "code",
      "source": [
        "# Then perform the operation, array % 5 == 0\n",
        "\n",
        "mat_array % 5 ==0"
      ],
      "metadata": {
        "id": "HDC34sbAP65k"
      },
      "execution_count": null,
      "outputs": []
    }
  ]
}