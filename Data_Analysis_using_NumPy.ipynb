{
  "cells": [
    {
      "cell_type": "markdown",
      "metadata": {
        "id": "view-in-github",
        "colab_type": "text"
      },
      "source": [
        "<a href=\"https://colab.research.google.com/github/mehedihasan-cse/Data-Science-Practice--Advance-Topic/blob/main/Data_Analysis_using_NumPy.ipynb\" target=\"_parent\"><img src=\"https://colab.research.google.com/assets/colab-badge.svg\" alt=\"Open In Colab\"/></a>"
      ]
    },
    {
      "cell_type": "markdown",
      "metadata": {
        "id": "7w-M2zFIN2m3"
      },
      "source": [
        "# NumPy Essentials (Part:1 - Arrays)\n",
        "\n",
        "Hi Guys,<br>\n",
        "Welcome to the NumPy Essentials lecture part 1.<br>\n",
        "\n",
        "As a fundamental package for scientific computing, NumPy provides the foundations of mathematical, scientific, engineering and data science programming within the Python Echo-system. NumPy’s main object is the homogeneous multidimensional array.<br>\n",
        "\n",
        "**NumPY stands for? Ans: Numerical Python  \n",
        "Numpy developed by? Ans: Travis Oliphant**\n",
        "\n",
        "**I hope that you have already installed NumPy, let's move on a create a new notebook to explore more about NumPy.** <br>\n",
        "\n",
        "# Numpy Arrays\n",
        "### `arange()`,  `linspace()`, `zeros()`,  `ones()`, `eye()`, `rand()`, `randn()`, `randint()`\n",
        "### Methods: `reshape()`, `max()`, `min()`, `argmax()`, `argmin()`<br>\n",
        "### Attributes: `size, shape, dtype`\n",
        "### Indexing & slicing of 1-D arrays (vectors)\n",
        "###  Indexing & slicing 2-D arrays (matrices)"
      ]
    },
    {
      "cell_type": "code",
      "execution_count": null,
      "metadata": {
        "id": "yU0lo_clN2nR"
      },
      "outputs": [],
      "source": [
        "# Let import NumPy\n",
        "import numpy as np"
      ]
    },
    {
      "cell_type": "markdown",
      "metadata": {
        "id": "OvrVZrjrN2nT"
      },
      "source": [
        "NumPy has many built-in functions and capabilities. We will focus on some of the most important and key concepts of this powerful library.\n",
        "\n",
        "# Numpy Arrays\n",
        "\n",
        "NumPy arrays will be the main concept that we will be using in this course. These arrays essentially come in two flavors: <br>\n",
        "* **Vectors:** Vectors are strictly 1-dimensional array\n",
        "*  **Matrices:** Matrices are 2-dimensional (matrix can still have only one row or one column)."
      ]
    },
    {
      "cell_type": "markdown",
      "metadata": {
        "id": "mZ9vOInxN2nU"
      },
      "source": [
        "## Creating NumPy Arrays"
      ]
    },
    {
      "cell_type": "markdown",
      "metadata": {
        "id": "pzKzS4NqN2nU"
      },
      "source": [
        "### From Python data type (e.g. List, Tuple)"
      ]
    },
    {
      "cell_type": "code",
      "execution_count": null,
      "metadata": {
        "id": "DoTJ4k26N2nU",
        "outputId": "8d9ede50-af65-4fec-efac-5703db1de7af"
      },
      "outputs": [
        {
          "data": {
            "text/plain": [
              "[-1, 0, 1]"
            ]
          },
          "execution_count": 8,
          "metadata": {},
          "output_type": "execute_result"
        }
      ],
      "source": [
        "# Lets create a Python list.\n",
        "my_list = [-1,0,1]\n",
        "\n",
        "my_list"
      ]
    },
    {
      "cell_type": "markdown",
      "metadata": {
        "id": "L6Bf4fzuN2nW"
      },
      "source": [
        "To create a NumPy array, from a Python data structure, we use NumPy's array function. <br>\n",
        "The NumPy's array function can be accessed by typing \"np.array\". <br>\n",
        "We need to cast our Python data structure, my_list, as a parameter to the array function.<br>"
      ]
    },
    {
      "cell_type": "code",
      "execution_count": null,
      "metadata": {
        "id": "RVfkSs7gN2nW",
        "outputId": "871ba493-64de-40c3-dc48-eb79efd86c55"
      },
      "outputs": [
        {
          "data": {
            "text/plain": [
              "array([-1,  0,  1])"
            ]
          },
          "execution_count": 11,
          "metadata": {},
          "output_type": "execute_result"
        }
      ],
      "source": [
        "my_array = np.array(my_list)\n",
        "\n",
        "my_array"
      ]
    },
    {
      "cell_type": "code",
      "execution_count": null,
      "metadata": {
        "id": "E8hUNdOHN2nX",
        "outputId": "0124b5ad-24f8-4519-e600-c231ea3db83f"
      },
      "outputs": [
        {
          "data": {
            "text/plain": [
              "[[1, 2, 3], [4, 5, 6], [7, 8, 9], [4, 5, 9]]"
            ]
          },
          "execution_count": 16,
          "metadata": {},
          "output_type": "execute_result"
        }
      ],
      "source": [
        "# Lets create and cast a list of list to generate 2-D array\n",
        "my_matrix = [[1,2,3],[4,5,6],[7,8,9], [4, 5, 9]]\n",
        "my_matrix"
      ]
    },
    {
      "cell_type": "code",
      "execution_count": null,
      "metadata": {
        "id": "HE4vy3CiN2nY",
        "outputId": "56979eb0-01f5-4f79-feff-dfa6843b5334"
      },
      "outputs": [
        {
          "data": {
            "text/plain": [
              "array([[1, 2, 3],\n",
              "       [4, 5, 6],\n",
              "       [7, 8, 9],\n",
              "       [4, 5, 9]])"
            ]
          },
          "execution_count": 17,
          "metadata": {},
          "output_type": "execute_result"
        }
      ],
      "source": [
        "matrix_one = np.array(my_matrix)\n",
        "matrix_one"
      ]
    },
    {
      "cell_type": "code",
      "execution_count": null,
      "metadata": {
        "id": "bat8-49BN2nY",
        "outputId": "ea2f8e38-ba1f-42a4-9d0e-3f900a36d809"
      },
      "outputs": [
        {
          "data": {
            "text/plain": [
              "(array([-1,  0,  1]), numpy.ndarray)"
            ]
          },
          "execution_count": 18,
          "metadata": {},
          "output_type": "execute_result"
        }
      ],
      "source": [
        "# We can use Tuple instead of list as well.\n",
        "my_tuple = (-1,0,1)\n",
        "my_array = np.array(my_tuple)\n",
        "my_array, type(my_array)"
      ]
    },
    {
      "cell_type": "markdown",
      "metadata": {
        "id": "HrxOIv5zN2nZ"
      },
      "source": [
        "### Array creation using NumPy's Built-in methods\n",
        "\n",
        "Most of the times, we use NumPy built-in methods to create arrays. These are much simpler and faster."
      ]
    },
    {
      "cell_type": "markdown",
      "metadata": {
        "id": "SsuvmrmAN2nZ"
      },
      "source": [
        "### `arange()`\n",
        "\n",
        "* arange() is very much similar to Python function range() <br>\n",
        "* Syntax: arange([start,] stop[, step,], dtype=None) <br>\n",
        "* Return evenly spaced values within a given interval. <br>\n",
        "\n",
        "*Press shift+tab for the documentation.*"
      ]
    },
    {
      "cell_type": "code",
      "execution_count": null,
      "metadata": {
        "id": "PtI7Gx6IN2na",
        "outputId": "f2a84b53-e4ba-4289-e17e-d6897fb59c3b"
      },
      "outputs": [
        {
          "data": {
            "text/plain": [
              "array([ 0,  1,  2,  3,  4,  5,  6,  7,  8,  9, 10, 11, 12, 13, 14, 15, 16,\n",
              "       17, 18, 19, 20, 21, 22, 23, 24, 25, 26, 27, 28, 29, 30, 31, 32, 33,\n",
              "       34, 35, 36, 37, 38, 39, 40, 41, 42, 43, 44, 45, 46, 47, 48, 49, 50,\n",
              "       51, 52, 53, 54, 55, 56, 57, 58, 59, 60, 61, 62, 63, 64, 65, 66, 67,\n",
              "       68, 69, 70, 71, 72, 73, 74, 75, 76, 77, 78, 79, 80, 81, 82, 83, 84,\n",
              "       85, 86, 87, 88, 89, 90, 91, 92, 93, 94, 95, 96, 97, 98, 99])"
            ]
          },
          "execution_count": 19,
          "metadata": {},
          "output_type": "execute_result"
        }
      ],
      "source": [
        "np.arange(100) # similar to range() in Python, not including 100"
      ]
    },
    {
      "cell_type": "code",
      "execution_count": null,
      "metadata": {
        "id": "PE0jBvm5N2nb",
        "outputId": "b6ef2bce-8cee-4f2f-d403-11e6dedb7312"
      },
      "outputs": [
        {
          "data": {
            "text/plain": [
              "array([3, 5, 7, 9])"
            ]
          },
          "execution_count": 20,
          "metadata": {},
          "output_type": "execute_result"
        }
      ],
      "source": [
        "# We can give the step\n",
        "np.arange(3,10,2)"
      ]
    },
    {
      "cell_type": "code",
      "execution_count": null,
      "metadata": {
        "id": "ftVf5NPAN2nb",
        "outputId": "533899c8-b1e9-4830-a952-194d676e30e3"
      },
      "outputs": [
        {
          "data": {
            "text/plain": [
              "array([0., 2., 4., 6., 8.])"
            ]
          },
          "execution_count": 22,
          "metadata": {},
          "output_type": "execute_result"
        }
      ],
      "source": [
        "# We can give the step and dtype\n",
        "np.arange(0,10,2, dtype=float)"
      ]
    },
    {
      "cell_type": "markdown",
      "metadata": {
        "id": "zLF6XOxzN2nc"
      },
      "source": [
        "### `linspace()`\n",
        "Return evenly spaced numbers over a specified interval.<br>\n",
        "*Press shift+tab for the documentation.*"
      ]
    },
    {
      "cell_type": "code",
      "execution_count": null,
      "metadata": {
        "scrolled": false,
        "id": "wSFtgpKTN2nc",
        "outputId": "c4351b85-ea8b-4761-af88-369192eade92"
      },
      "outputs": [
        {
          "data": {
            "text/plain": [
              "(array([ 1.        ,  1.09090909,  1.18181818,  1.27272727,  1.36363636,\n",
              "         1.45454545,  1.54545455,  1.63636364,  1.72727273,  1.81818182,\n",
              "         1.90909091,  2.        ,  2.09090909,  2.18181818,  2.27272727,\n",
              "         2.36363636,  2.45454545,  2.54545455,  2.63636364,  2.72727273,\n",
              "         2.81818182,  2.90909091,  3.        ,  3.09090909,  3.18181818,\n",
              "         3.27272727,  3.36363636,  3.45454545,  3.54545455,  3.63636364,\n",
              "         3.72727273,  3.81818182,  3.90909091,  4.        ,  4.09090909,\n",
              "         4.18181818,  4.27272727,  4.36363636,  4.45454545,  4.54545455,\n",
              "         4.63636364,  4.72727273,  4.81818182,  4.90909091,  5.        ,\n",
              "         5.09090909,  5.18181818,  5.27272727,  5.36363636,  5.45454545,\n",
              "         5.54545455,  5.63636364,  5.72727273,  5.81818182,  5.90909091,\n",
              "         6.        ,  6.09090909,  6.18181818,  6.27272727,  6.36363636,\n",
              "         6.45454545,  6.54545455,  6.63636364,  6.72727273,  6.81818182,\n",
              "         6.90909091,  7.        ,  7.09090909,  7.18181818,  7.27272727,\n",
              "         7.36363636,  7.45454545,  7.54545455,  7.63636364,  7.72727273,\n",
              "         7.81818182,  7.90909091,  8.        ,  8.09090909,  8.18181818,\n",
              "         8.27272727,  8.36363636,  8.45454545,  8.54545455,  8.63636364,\n",
              "         8.72727273,  8.81818182,  8.90909091,  9.        ,  9.09090909,\n",
              "         9.18181818,  9.27272727,  9.36363636,  9.45454545,  9.54545455,\n",
              "         9.63636364,  9.72727273,  9.81818182,  9.90909091, 10.        ]),\n",
              " 0.09090909090909091)"
            ]
          },
          "execution_count": 26,
          "metadata": {},
          "output_type": "execute_result"
        }
      ],
      "source": [
        "# start from 1 & end at 15 with 15 evenly spaced points b/w 1 to 15.\n",
        "np.linspace(1, 10, 100, retstep=True)"
      ]
    },
    {
      "cell_type": "code",
      "execution_count": null,
      "metadata": {
        "id": "VL_CvdyeN2nd",
        "outputId": "7b923839-c89c-45d0-a014-6359e859b846"
      },
      "outputs": [
        {
          "data": {
            "text/plain": [
              "(array([ 9.        ,  9.31578947,  9.63157895,  9.94736842, 10.26315789,\n",
              "        10.57894737, 10.89473684, 11.21052632, 11.52631579, 11.84210526,\n",
              "        12.15789474, 12.47368421, 12.78947368, 13.10526316, 13.42105263,\n",
              "        13.73684211, 14.05263158, 14.36842105, 14.68421053, 15.        ]),\n",
              " 0.3157894736842105)"
            ]
          },
          "execution_count": 27,
          "metadata": {},
          "output_type": "execute_result"
        }
      ],
      "source": [
        "# Lets find the step size with \"retstep\" which returns the array and the step size\n",
        "my_linspace = np.linspace(9, 15, 20, retstep=True)\n",
        "my_linspace\n",
        "# my_linspace[1] to get the stepsize only"
      ]
    },
    {
      "cell_type": "code",
      "execution_count": null,
      "metadata": {
        "id": "SNq_9ty3N2nd",
        "outputId": "bbe3ac95-b7c2-4659-89eb-f2f3c8b1c408"
      },
      "outputs": [
        {
          "data": {
            "text/plain": [
              "array([ 2.        ,  2.44827586,  2.89655172,  3.34482759,  3.79310345,\n",
              "        4.24137931,  4.68965517,  5.13793103,  5.5862069 ,  6.03448276,\n",
              "        6.48275862,  6.93103448,  7.37931034,  7.82758621,  8.27586207,\n",
              "        8.72413793,  9.17241379,  9.62068966, 10.06896552, 10.51724138,\n",
              "       10.96551724, 11.4137931 , 11.86206897, 12.31034483, 12.75862069,\n",
              "       13.20689655, 13.65517241, 14.10344828, 14.55172414, 15.        ])"
            ]
          },
          "execution_count": 28,
          "metadata": {},
          "output_type": "execute_result"
        }
      ],
      "source": [
        "np.linspace(2,15,30) # 1-D array"
      ]
    },
    {
      "cell_type": "markdown",
      "metadata": {
        "id": "ldT3h1_hN2ne"
      },
      "source": [
        "## Don't Confuse!\n",
        "  * <b>arange() takes 3rd argument as step size.<b><br>\n",
        "  * <b>linspace() take 3rd argument as no of point we want.<b>"
      ]
    },
    {
      "cell_type": "code",
      "execution_count": null,
      "metadata": {
        "id": "b1YJTzCWN2ne",
        "outputId": "3d90c21e-3f01-4ed1-d004-a50001f8380a"
      },
      "outputs": [
        {
          "data": {
            "text/plain": [
              "array([ 0,  1,  2,  3,  4,  5,  6,  7,  8,  9, 10, 11, 12, 13, 14, 15])"
            ]
          },
          "execution_count": 40,
          "metadata": {},
          "output_type": "execute_result"
        }
      ],
      "source": [
        "x = np.arange(0,16)\n",
        "x"
      ]
    },
    {
      "cell_type": "code",
      "execution_count": null,
      "metadata": {
        "id": "P9nViJxsN2ne",
        "outputId": "da39e387-e508-4f25-a94e-3bb8d8229977"
      },
      "outputs": [
        {
          "data": {
            "text/plain": [
              "(16,)"
            ]
          },
          "execution_count": 41,
          "metadata": {},
          "output_type": "execute_result"
        }
      ],
      "source": [
        "x.shape"
      ]
    },
    {
      "cell_type": "code",
      "execution_count": null,
      "metadata": {
        "id": "AqnQnXffN2ne"
      },
      "outputs": [],
      "source": [
        "x = x.reshape(2,2,4)"
      ]
    },
    {
      "cell_type": "code",
      "execution_count": null,
      "metadata": {
        "id": "PQmcPY4MN2nf",
        "outputId": "4a2d3ca1-7742-41ed-a32a-9179727fcf7d"
      },
      "outputs": [
        {
          "data": {
            "text/plain": [
              "array([[[ 0,  1,  2,  3],\n",
              "        [ 4,  5,  6,  7]],\n",
              "\n",
              "       [[ 8,  9, 10, 11],\n",
              "        [12, 13, 14, 15]]])"
            ]
          },
          "execution_count": 43,
          "metadata": {},
          "output_type": "execute_result"
        }
      ],
      "source": [
        "x"
      ]
    },
    {
      "cell_type": "code",
      "execution_count": null,
      "metadata": {
        "id": "CRviZQsSN2nf",
        "outputId": "b545f55b-052a-453f-fca7-54029ef6b53b"
      },
      "outputs": [
        {
          "data": {
            "text/plain": [
              "(4, 4)"
            ]
          },
          "execution_count": 35,
          "metadata": {},
          "output_type": "execute_result"
        }
      ],
      "source": [
        "x.shape"
      ]
    },
    {
      "cell_type": "code",
      "execution_count": null,
      "metadata": {
        "id": "dnKl-6uYN2nf",
        "outputId": "1c9a9a67-cb31-4483-c221-066af58dc908"
      },
      "outputs": [
        {
          "data": {
            "text/plain": [
              "array([ 0,  1,  2,  3,  4,  5,  6,  7,  8,  9, 10, 11, 12, 13, 14, 15])"
            ]
          },
          "execution_count": 39,
          "metadata": {},
          "output_type": "execute_result"
        }
      ],
      "source": [
        "x = x.reshape(16,)\n",
        "x"
      ]
    },
    {
      "cell_type": "markdown",
      "metadata": {
        "id": "40Ud6Z_RN2ng"
      },
      "source": [
        "## Random\n",
        "\n",
        "We can also create arrays with random numbers using Numpy's built-in functions in Random module.<br>\n",
        "*np.random. and then press tab for the options with random*"
      ]
    },
    {
      "cell_type": "markdown",
      "metadata": {
        "id": "AHHpv_ZlN2ng"
      },
      "source": [
        "### `rand()`\n",
        "Create an array of the given shape and populate it with\n",
        "random samples from a uniform distribution\n",
        "over ``[0, 1)``."
      ]
    },
    {
      "cell_type": "code",
      "execution_count": null,
      "metadata": {
        "id": "DqV11FroN2nh",
        "outputId": "4ef44208-5e4d-476d-ae78-b093b14a9090"
      },
      "outputs": [
        {
          "data": {
            "text/plain": [
              "array([0.61207279, 0.68191519, 0.56506562, 0.94103118, 0.22093321])"
            ]
          },
          "execution_count": 48,
          "metadata": {},
          "output_type": "execute_result"
        }
      ],
      "source": [
        "np.random.rand(5) # 1-D array with three elements"
      ]
    },
    {
      "cell_type": "code",
      "execution_count": null,
      "metadata": {
        "id": "1TVlChQnN2nh"
      },
      "outputs": [],
      "source": [
        "np.random.rand(6,4)  # row, col, note we are not passing a tuple here, each dimension as a separate argument"
      ]
    },
    {
      "cell_type": "markdown",
      "metadata": {
        "id": "wtGCxywnN2ni"
      },
      "source": [
        "### `randn()`\n",
        "\n",
        "Return a sample (or samples) from the \"standard normal\" or a \"Gaussian\" distribution. Unlike rand which is uniform.<br>\n",
        "*Press shift+tab for the documentation.*"
      ]
    },
    {
      "cell_type": "code",
      "execution_count": null,
      "metadata": {
        "id": "RUrK_5qAN2ni"
      },
      "outputs": [],
      "source": [
        "np.random.randn(20, 5)"
      ]
    },
    {
      "cell_type": "code",
      "execution_count": null,
      "metadata": {
        "id": "RrwMlbVrN2nj"
      },
      "outputs": [],
      "source": [
        "normal_array = np.random.randn(1000,1) # no tuple, each dimension as a separate argument\n",
        "normal_array"
      ]
    },
    {
      "cell_type": "code",
      "execution_count": null,
      "metadata": {
        "id": "wTK3XJXyN2nj"
      },
      "outputs": [],
      "source": [
        "import pandas as pd\n",
        "\n",
        "df = pd.DataFrame(data=normal_array, columns=['A'])\n",
        "df"
      ]
    },
    {
      "cell_type": "code",
      "execution_count": null,
      "metadata": {
        "id": "8zGd9mrAN2nj"
      },
      "outputs": [],
      "source": [
        "df['A'].hist(bins=100)"
      ]
    },
    {
      "cell_type": "markdown",
      "metadata": {
        "id": "Paiv8VEhN2nk"
      },
      "source": [
        "### `randint()`\n",
        "Return random integers from `low` (inclusive) to `high` (exclusive)."
      ]
    },
    {
      "cell_type": "code",
      "execution_count": null,
      "metadata": {
        "id": "fMSlnZjWN2nk",
        "outputId": "39b536f2-8172-41e7-e442-fa701a0d2106"
      },
      "outputs": [
        {
          "data": {
            "text/plain": [
              "array([ 726,  402,  270, 1111, 1521, 1870, 1220,    2, 1932,  352,  908,\n",
              "        251,  819, 1327, 1027,  645,  615, 1951,   45,  691, 1973,  265,\n",
              "        243, 1827, 1291,  340, 1494,  259,  676, 1514,  874,  800,  258,\n",
              "        797, 1177,  110, 1534,  318,  241,  264])"
            ]
          },
          "execution_count": 52,
          "metadata": {},
          "output_type": "execute_result"
        }
      ],
      "source": [
        "np.random.randint(1,2000,40) #returns one random int, 1 inclusive, 100 exclusive"
      ]
    },
    {
      "cell_type": "code",
      "execution_count": null,
      "metadata": {
        "id": "oecHgcG5N2nk",
        "outputId": "2cd37a07-154c-4349-fcbb-f671f9757daf"
      },
      "outputs": [
        {
          "data": {
            "text/plain": [
              "array([[373, 360, 491, 478, 485],\n",
              "       [491, 332, 102, 485, 169],\n",
              "       [486, 429, 247, 272, 235],\n",
              "       [315, 400, 273, 404, 145]])"
            ]
          },
          "execution_count": 55,
          "metadata": {},
          "output_type": "execute_result"
        }
      ],
      "source": [
        "np.random.randint(100,500,20).reshape(4,5) #returns ten random int,"
      ]
    },
    {
      "cell_type": "markdown",
      "metadata": {
        "id": "CErdAyreN2nm"
      },
      "source": [
        "## Array Methods & Attributes\n",
        "Some important Methods and Attributes are important to know:<br>\n",
        "\n",
        "### Methods:\n",
        "* reshape(), max(), min(), argmax(), argmin()<br>"
      ]
    },
    {
      "cell_type": "code",
      "execution_count": null,
      "metadata": {
        "id": "4CUx-XvqN2nm"
      },
      "outputs": [],
      "source": [
        "# lets create 2 arrays using arange() and randint()\n",
        "array_ranint = np.random.randint(0,100,10)"
      ]
    },
    {
      "cell_type": "code",
      "execution_count": null,
      "metadata": {
        "id": "x6L-oXavN2nn",
        "outputId": "c0675ca1-e974-4c01-fc6e-d6a0b2091284"
      },
      "outputs": [
        {
          "data": {
            "text/plain": [
              "array([85, 28, 17, 68, 40, 86, 48, 74, 62, 53])"
            ]
          },
          "execution_count": 57,
          "metadata": {},
          "output_type": "execute_result"
        }
      ],
      "source": [
        "array_ranint"
      ]
    },
    {
      "cell_type": "markdown",
      "metadata": {
        "id": "EtEit0nsN2nn"
      },
      "source": [
        "#### `max()` & `min()`\n",
        "Useful methods for finding max or min values."
      ]
    },
    {
      "cell_type": "code",
      "execution_count": null,
      "metadata": {
        "id": "ghESWxmTN2nn",
        "outputId": "728a48f5-4d44-4072-ea6e-ca42b56e3ebe"
      },
      "outputs": [
        {
          "data": {
            "text/plain": [
              "array([85, 28, 17, 68, 40, 86, 48, 74, 62, 53])"
            ]
          },
          "execution_count": 58,
          "metadata": {},
          "output_type": "execute_result"
        }
      ],
      "source": [
        "array_ranint"
      ]
    },
    {
      "cell_type": "code",
      "execution_count": null,
      "metadata": {
        "id": "93NgV-TDN2no",
        "outputId": "d9eea110-b7aa-4d68-a28a-31fb1d91b032"
      },
      "outputs": [
        {
          "data": {
            "text/plain": [
              "17"
            ]
          },
          "execution_count": 59,
          "metadata": {},
          "output_type": "execute_result"
        }
      ],
      "source": [
        "array_ranint.min()"
      ]
    },
    {
      "cell_type": "code",
      "execution_count": null,
      "metadata": {
        "id": "1VJG9FRKN2no",
        "outputId": "68c4d6ba-60c3-4ad1-8844-95153fea254a"
      },
      "outputs": [
        {
          "data": {
            "text/plain": [
              "86"
            ]
          },
          "execution_count": 60,
          "metadata": {},
          "output_type": "execute_result"
        }
      ],
      "source": [
        "array_ranint.max()"
      ]
    },
    {
      "cell_type": "markdown",
      "metadata": {
        "id": "FoWo9tzuN2np"
      },
      "source": [
        "#### `argmax()` & `argmin()`\n",
        "To find the index locations of max and min values in array"
      ]
    },
    {
      "cell_type": "code",
      "execution_count": null,
      "metadata": {
        "id": "s-fUdM3sN2np",
        "outputId": "7ca02d6c-0bc9-4ce1-9f86-d27e285ea195"
      },
      "outputs": [
        {
          "data": {
            "text/plain": [
              "5"
            ]
          },
          "execution_count": 61,
          "metadata": {},
          "output_type": "execute_result"
        }
      ],
      "source": [
        "array_ranint.argmax() # index starts from 0"
      ]
    },
    {
      "cell_type": "code",
      "execution_count": null,
      "metadata": {
        "id": "4-6bz9Y4N2np",
        "outputId": "89143798-a050-4ffe-91ac-65c6ac1279d2"
      },
      "outputs": [
        {
          "data": {
            "text/plain": [
              "2"
            ]
          },
          "execution_count": 62,
          "metadata": {},
          "output_type": "execute_result"
        }
      ],
      "source": [
        "array_ranint.argmin()"
      ]
    },
    {
      "cell_type": "markdown",
      "metadata": {
        "id": "_ek-IQeZN2nq"
      },
      "source": [
        "### Attributes\n",
        "* `size, shape, dtype`"
      ]
    },
    {
      "cell_type": "code",
      "execution_count": null,
      "metadata": {
        "id": "SyUwfGCjN2nq"
      },
      "outputs": [],
      "source": [
        "array_arange=np.arange(16)"
      ]
    },
    {
      "cell_type": "code",
      "execution_count": null,
      "metadata": {
        "id": "7O9IBEPDN2nq",
        "outputId": "881d20b6-0b4b-4e8e-f8cc-0e0ec48dc39b"
      },
      "outputs": [
        {
          "data": {
            "text/plain": [
              "(16,)"
            ]
          },
          "execution_count": 64,
          "metadata": {},
          "output_type": "execute_result"
        }
      ],
      "source": [
        "# Lets take vector array, array_arange\n",
        "array_arange.shape\n",
        "#reshape_test.shape"
      ]
    },
    {
      "cell_type": "code",
      "execution_count": null,
      "metadata": {
        "id": "WeUR-u07N2nr",
        "outputId": "8c99b474-0148-4bfe-907d-9648002efe1b"
      },
      "outputs": [
        {
          "data": {
            "text/plain": [
              "16"
            ]
          },
          "execution_count": 65,
          "metadata": {},
          "output_type": "execute_result"
        }
      ],
      "source": [
        "# Size of the array\n",
        "array_arange.size"
      ]
    },
    {
      "cell_type": "code",
      "execution_count": null,
      "metadata": {
        "id": "Zr4Rhhr3N2nr",
        "outputId": "1669fc3c-30ba-4193-9a76-c052e91cd298"
      },
      "outputs": [
        {
          "data": {
            "text/plain": [
              "dtype('int32')"
            ]
          },
          "execution_count": 66,
          "metadata": {},
          "output_type": "execute_result"
        }
      ],
      "source": [
        "# Type of the data.\n",
        "array_arange.dtype"
      ]
    },
    {
      "cell_type": "code",
      "execution_count": null,
      "metadata": {
        "id": "MTqa_RChN2ns",
        "outputId": "25abed4a-f301-4bd2-be4c-2a470e8c6ee0"
      },
      "outputs": [
        {
          "data": {
            "text/plain": [
              "array([[ 0,  1,  2,  3],\n",
              "       [ 4,  5,  6,  7],\n",
              "       [ 8,  9, 10, 11],\n",
              "       [12, 13, 14, 15]])"
            ]
          },
          "execution_count": 67,
          "metadata": {},
          "output_type": "execute_result"
        }
      ],
      "source": [
        "array_arange.reshape(4,4)"
      ]
    },
    {
      "cell_type": "code",
      "execution_count": null,
      "metadata": {
        "id": "o4s2EXLaN2ns",
        "outputId": "2c0923e4-37fe-4880-e84d-7a0fec1c6a2b"
      },
      "outputs": [
        {
          "data": {
            "text/plain": [
              "array([ 0,  1,  2,  3,  4,  5,  6,  7,  8,  9, 10, 11, 12, 13, 14, 15])"
            ]
          },
          "execution_count": 68,
          "metadata": {},
          "output_type": "execute_result"
        }
      ],
      "source": [
        "array_arange"
      ]
    },
    {
      "cell_type": "code",
      "execution_count": null,
      "metadata": {
        "id": "G9HLy5jtN2nt"
      },
      "outputs": [],
      "source": [
        "array_arange.shape = (4,4)"
      ]
    },
    {
      "cell_type": "code",
      "execution_count": null,
      "metadata": {
        "id": "uZmluaqEN2nt",
        "outputId": "b0ef455d-ff13-419a-b446-06955e8ea247"
      },
      "outputs": [
        {
          "data": {
            "text/plain": [
              "array([[ 0,  1,  2,  3],\n",
              "       [ 4,  5,  6,  7],\n",
              "       [ 8,  9, 10, 11],\n",
              "       [12, 13, 14, 15]])"
            ]
          },
          "execution_count": 70,
          "metadata": {},
          "output_type": "execute_result"
        }
      ],
      "source": [
        "array_arange"
      ]
    },
    {
      "cell_type": "code",
      "execution_count": null,
      "metadata": {
        "id": "9ZfR5OK4N2nt",
        "outputId": "6149b3d0-8f8d-49b8-a18f-4550cbe7505d"
      },
      "outputs": [
        {
          "data": {
            "text/plain": [
              "array([[ 0,  1,  2,  3,  4,  5,  6,  7,  8,  9, 10, 11, 12, 13, 14, 15]])"
            ]
          },
          "execution_count": 71,
          "metadata": {},
          "output_type": "execute_result"
        }
      ],
      "source": [
        "array_arange.reshape(1,16)"
      ]
    },
    {
      "cell_type": "code",
      "execution_count": null,
      "metadata": {
        "id": "z1y6TJC0N2nu"
      },
      "outputs": [],
      "source": [
        "array_arange"
      ]
    },
    {
      "cell_type": "code",
      "execution_count": null,
      "metadata": {
        "id": "UPuFtfxTN2nu"
      },
      "outputs": [],
      "source": [
        "array_arange.reshape(1,16).shape"
      ]
    },
    {
      "cell_type": "markdown",
      "metadata": {
        "id": "YBY5MzuuN2nu"
      },
      "source": [
        "### Indexing & slicing of 1-D arrays (vectors)"
      ]
    },
    {
      "cell_type": "code",
      "execution_count": null,
      "metadata": {
        "id": "2dp5F1DEN2nv"
      },
      "outputs": [],
      "source": [
        "# Lets create a simple 1-D NumPy array.\n",
        "# (we can use arange() as well.)\n",
        "array_1d = np.array([-10, -2, 0, 2, 17, 106,200])"
      ]
    },
    {
      "cell_type": "code",
      "execution_count": null,
      "metadata": {
        "id": "AAnvsL9SN2nv"
      },
      "outputs": [],
      "source": [
        "array_1d"
      ]
    },
    {
      "cell_type": "code",
      "execution_count": null,
      "metadata": {
        "id": "_niejJdtN2n2"
      },
      "outputs": [],
      "source": [
        "# Getting value at certain index\n",
        "array_1d[2]"
      ]
    },
    {
      "cell_type": "code",
      "execution_count": null,
      "metadata": {
        "id": "EbpuiKocN2n3"
      },
      "outputs": [],
      "source": [
        "# Getting a range value\n",
        "array_1d[0:3]\n",
        "# array_1d is included in the out to compare and understand"
      ]
    },
    {
      "cell_type": "code",
      "execution_count": null,
      "metadata": {
        "id": "MONIokBDN2n3"
      },
      "outputs": [],
      "source": [
        "# Using -ve index\n",
        "array_1d[-2]\n",
        "# array_1d is included in the out to compare and understand"
      ]
    },
    {
      "cell_type": "code",
      "execution_count": null,
      "metadata": {
        "id": "hMdu3aQoN2n3"
      },
      "outputs": [],
      "source": [
        "# Using -ve index for a range\n",
        "array_1d[1:-2] # 1 inclusive and -2 exclusive in this case"
      ]
    },
    {
      "cell_type": "code",
      "execution_count": null,
      "metadata": {
        "id": "nVGE8msgN2n3"
      },
      "outputs": [],
      "source": [
        "array_1d"
      ]
    },
    {
      "cell_type": "code",
      "execution_count": null,
      "metadata": {
        "id": "LXsp7I-6N2n4"
      },
      "outputs": [],
      "source": [
        "# Getting up-to and from certain index -- remember index starts from '0'\n",
        "# (no need to give start and stop indexes)\n",
        "array_1d[:2]"
      ]
    },
    {
      "cell_type": "code",
      "execution_count": null,
      "metadata": {
        "id": "TOT9PwtWN2n4"
      },
      "outputs": [],
      "source": [
        "array_1d[2:]"
      ]
    },
    {
      "cell_type": "code",
      "execution_count": null,
      "metadata": {
        "id": "BpZyFtQJN2n4"
      },
      "outputs": [],
      "source": [
        "# Assigning a new value to a certain index in the array\n",
        "array_1d[0] = -102"
      ]
    },
    {
      "cell_type": "code",
      "execution_count": null,
      "metadata": {
        "id": "vJWRPWm0N2n5"
      },
      "outputs": [],
      "source": [
        "array_1d\n",
        "# The first element is changed to -102"
      ]
    },
    {
      "cell_type": "markdown",
      "metadata": {
        "id": "XJw6Awf3N2n5"
      },
      "source": [
        "###  Indexing & slicing 2-D arrays (matrices)\n",
        "\n",
        "Lets create an array with 24 elements using arange() and convert it to 2D matrix using \"shape\".<br>\n",
        "*note, 6 x 4 = 24*"
      ]
    },
    {
      "cell_type": "code",
      "execution_count": null,
      "metadata": {
        "id": "lNLCCaimN2n5"
      },
      "outputs": [],
      "source": [
        "array_2d = np.arange(24)\n",
        "array_2d = array_2d.reshape(6,4)\n",
        "array_2d"
      ]
    },
    {
      "cell_type": "markdown",
      "metadata": {
        "id": "kIyVM5tmN2n5"
      },
      "source": [
        "To access any element, the general format is: <br>\n",
        "* **`array_2d[row][col]`** <br>or<br>\n",
        "* **`array_2d[row,col]`**.\n",
        "\n",
        "We will use `[row,col]`, easier to use comma ',' for clarity."
      ]
    },
    {
      "cell_type": "code",
      "execution_count": null,
      "metadata": {
        "id": "6yvz4pkRN2n5"
      },
      "outputs": [],
      "source": [
        "# To get a complete row\n",
        "array_2d[2]"
      ]
    },
    {
      "cell_type": "code",
      "execution_count": null,
      "metadata": {
        "id": "UzCDfhGZN2n5"
      },
      "outputs": [],
      "source": [
        "array_2d[-4] # -0 and 0 is same inedex"
      ]
    },
    {
      "cell_type": "code",
      "execution_count": null,
      "metadata": {
        "id": "KyqGYGg2N2n6"
      },
      "outputs": [],
      "source": [
        "array_2d"
      ]
    },
    {
      "cell_type": "code",
      "execution_count": null,
      "metadata": {
        "id": "Qn0S2ANjN2n6"
      },
      "outputs": [],
      "source": [
        "# another way\n",
        "row = 5\n",
        "column = 2\n",
        "array_2d[row, column]"
      ]
    },
    {
      "cell_type": "code",
      "execution_count": null,
      "metadata": {
        "id": "_ok9jylVN2n6"
      },
      "outputs": [],
      "source": [
        "# Just to make sure, using [row][col] :)\n",
        "array_2d[5][2]"
      ]
    },
    {
      "cell_type": "code",
      "execution_count": null,
      "metadata": {
        "id": "t1jd8OkmN2n7"
      },
      "outputs": [],
      "source": [
        "array_2d"
      ]
    },
    {
      "cell_type": "code",
      "execution_count": null,
      "metadata": {
        "id": "Sw9plC5qN2n7"
      },
      "outputs": [],
      "source": [
        "# 2D array slicing\n",
        "array_2d[:2,:2] # array_2d[:2,:2].shape gives (2,2), 4 elements for top left corner"
      ]
    },
    {
      "cell_type": "markdown",
      "metadata": {
        "id": "qRo3owwMN2n7"
      },
      "source": [
        "### Broadcasting\n",
        "\n",
        "Numpy arrays are different from normal Python lists because of their ability to broadcast. We will only cover the basics, for further details on broadcasting rules, click [here](https://docs.scipy.org/doc/numpy/user/basics.broadcasting.html) <br>\n",
        "Another good read on [broadcasting](https://jakevdp.github.io/PythonDataScienceHandbook/02.05-computation-on-arrays-broadcasting.html)!<br>\n",
        "\n",
        "**Lets start with some simple examples:**"
      ]
    },
    {
      "cell_type": "code",
      "execution_count": null,
      "metadata": {
        "id": "8L7Pb9T6N2n7"
      },
      "outputs": [],
      "source": [
        "# Lets create an array using arange()\n",
        "array_1d = np.arange(0,10)\n",
        "array_1d"
      ]
    },
    {
      "cell_type": "markdown",
      "metadata": {
        "id": "WiTnGAQAN2n8"
      },
      "source": [
        "Take a slice of the array and set it equal to some number, say 500.<br>\n",
        "\n",
        "        array_1d[0:5] = 500\n",
        "this will **broadcast the value of 500 to the first 5 elements** of the array_1d"
      ]
    },
    {
      "cell_type": "code",
      "execution_count": null,
      "metadata": {
        "id": "AFgE78kaN2n8"
      },
      "outputs": [],
      "source": [
        "array_1d[0:5] = 500\n",
        "array_1d"
      ]
    },
    {
      "cell_type": "code",
      "execution_count": null,
      "metadata": {
        "id": "r0iztgyFN2n8"
      },
      "outputs": [],
      "source": [
        "# Lets create a 2D martix with ones\n",
        "array_2d = np.ones((4,4), dtype=int)\n",
        "array_2d"
      ]
    },
    {
      "cell_type": "code",
      "execution_count": null,
      "metadata": {
        "id": "tigEhYztN2n8"
      },
      "outputs": [],
      "source": [
        "# Lets broadcast 300 to the first row of array_2d\n",
        "array_2d[0] = 300\n",
        "array_2d"
      ]
    },
    {
      "cell_type": "code",
      "execution_count": null,
      "metadata": {
        "id": "V34t8ruqN2n8"
      },
      "outputs": [],
      "source": [
        "# Lets create a simple 1-D array and broadcast to array_2d\n",
        "array_2d + np.arange(0,4)  #[0,1,2,3]\n",
        "# try array_2d + np.arange(0,3), did this work? if not why?"
      ]
    },
    {
      "cell_type": "code",
      "execution_count": null,
      "metadata": {
        "id": "EDRzju6dN2n9"
      },
      "outputs": [],
      "source": [
        "array_2d * np.arange(0,4)"
      ]
    },
    {
      "cell_type": "code",
      "execution_count": null,
      "metadata": {
        "id": "SbdycNFxN2n9"
      },
      "outputs": [],
      "source": [
        "array_2d + 300\n",
        "# array_2d + [300,2], did it work? if not why?"
      ]
    },
    {
      "cell_type": "code",
      "execution_count": null,
      "metadata": {
        "id": "eJ89LkZ0N2n9"
      },
      "outputs": [],
      "source": [
        "array_2d"
      ]
    },
    {
      "cell_type": "code",
      "execution_count": null,
      "metadata": {
        "id": "6XDW6AAXN2n9"
      },
      "outputs": [],
      "source": [
        "#array_2d[0, 1]\n",
        "#array_2d[[0, 1]]\n",
        "array_2d[[0]]"
      ]
    },
    {
      "cell_type": "code",
      "execution_count": null,
      "metadata": {
        "id": "Tdo-J2j_N2n9"
      },
      "outputs": [],
      "source": [
        "array_2d[:,[2]]"
      ]
    },
    {
      "cell_type": "code",
      "execution_count": null,
      "metadata": {
        "id": "_xqP3-36N2n-"
      },
      "outputs": [],
      "source": [
        "array_2d"
      ]
    },
    {
      "cell_type": "code",
      "execution_count": null,
      "metadata": {
        "id": "Oti2QL09N2n-"
      },
      "outputs": [],
      "source": [
        "# We can use any order\n",
        "array_2d[[3,0,1]]"
      ]
    },
    {
      "cell_type": "code",
      "execution_count": null,
      "metadata": {
        "id": "m6UeINThN2n-"
      },
      "outputs": [],
      "source": [
        "# lets try another matrix\n",
        "array_2d = np.arange(24)\n",
        "array_2d.shape = (6,4)\n",
        "array_2d"
      ]
    },
    {
      "cell_type": "code",
      "execution_count": null,
      "metadata": {
        "id": "-Wi6IjeuN2n-"
      },
      "outputs": [],
      "source": [
        "# grabbing rows\n",
        "array_2d[[2,3]] #[2][3]"
      ]
    },
    {
      "cell_type": "code",
      "execution_count": null,
      "metadata": {
        "id": "vxona9z1N2n-"
      },
      "outputs": [],
      "source": [
        "array_2d[:3, [2,3]]"
      ]
    },
    {
      "cell_type": "code",
      "execution_count": null,
      "metadata": {
        "id": "_tFsqk9cN2n-"
      },
      "outputs": [],
      "source": [
        "# grabbing columns\n",
        "#array_2d[:,3:2]\n",
        "array_2d[:,[3,2]]"
      ]
    },
    {
      "cell_type": "code",
      "execution_count": null,
      "metadata": {
        "id": "wO_1l3HDN2n_"
      },
      "outputs": [],
      "source": [
        "# Lets create a simple array using arange()\n",
        "array_1d = np.arange(1,11)\n",
        "array_1d"
      ]
    },
    {
      "cell_type": "markdown",
      "metadata": {
        "id": "thDLAhkTN2n_"
      },
      "source": [
        "We can apply condition such as >, <, == etc"
      ]
    },
    {
      "cell_type": "code",
      "execution_count": null,
      "metadata": {
        "id": "D8Lm8gj9N2n_"
      },
      "outputs": [],
      "source": [
        "array_1d > 3"
      ]
    },
    {
      "cell_type": "code",
      "execution_count": null,
      "metadata": {
        "id": "wMGpx9UAN2n_"
      },
      "outputs": [],
      "source": [
        "# lets create a bool_array for some condition, say array_1d > 3\n",
        "bool_array = array_1d > 3\n",
        "bool_array"
      ]
    },
    {
      "cell_type": "markdown",
      "metadata": {
        "id": "g_grJL19N2n_"
      },
      "source": [
        "Lets create a mask to **filter out the even numbers in \"array_1d\"**"
      ]
    },
    {
      "cell_type": "code",
      "execution_count": null,
      "metadata": {
        "id": "curOSEIuN2oA"
      },
      "outputs": [],
      "source": [
        "array_1d % 2"
      ]
    },
    {
      "cell_type": "code",
      "execution_count": null,
      "metadata": {
        "id": "gmNXqP4QN2oA"
      },
      "outputs": [],
      "source": [
        "0 == array_1d % 2"
      ]
    },
    {
      "cell_type": "code",
      "execution_count": null,
      "metadata": {
        "id": "3Q2BNBUoN2oA"
      },
      "outputs": [],
      "source": [
        "# A number is even if, number % 2 is \"0\"\n",
        "mod_2_mask_1d = array_1d % 2 != 0\n",
        "mod_2_mask_1d"
      ]
    },
    {
      "cell_type": "code",
      "execution_count": null,
      "metadata": {
        "id": "CA2D3ccFN2oA"
      },
      "outputs": [],
      "source": [
        "array_1d"
      ]
    },
    {
      "cell_type": "code",
      "execution_count": null,
      "metadata": {
        "id": "N4IzEevAN2oA"
      },
      "outputs": [],
      "source": [
        "array_1d[mod_2_mask_1d] #array_1d[[False,  True, False,  True, False,  True, False,  True, False,True]]"
      ]
    },
    {
      "cell_type": "markdown",
      "metadata": {
        "id": "PYjo6hWYN2oB"
      },
      "source": [
        "## NumPy Operations\n",
        "\n",
        "Hi Guys,<br>\n",
        "Welcome to the NumPy Essentials lecture part 2.<br>\n",
        "\n",
        "Let's talk about NumPy operations in this section, such as:\n",
        "\n",
        "* <b>Arithmetic operations</b>\n",
        "* <b>Universal Functions (ufunc)</b>\n",
        ""
      ]
    },
    {
      "cell_type": "markdown",
      "metadata": {
        "id": "JkBCkCHqN2oB"
      },
      "source": [
        "## Arithmetic operations\n",
        "\n",
        "We can perform arithmetic operations with NumPy arrays. <br>\n",
        "Let's learn with examples:"
      ]
    },
    {
      "cell_type": "code",
      "execution_count": null,
      "metadata": {
        "id": "5_PXtcY8N2oB"
      },
      "outputs": [],
      "source": [
        "# Let's create an array using arange() method\n",
        "arr = np.arange(0,5)\n",
        "arr"
      ]
    },
    {
      "cell_type": "code",
      "execution_count": null,
      "metadata": {
        "id": "yRNtOi6VN2oC"
      },
      "outputs": [],
      "source": [
        "# Adding two arrays\n",
        "arr + arr  #[0, 1, 2, 3, 4] + [0, 1, 2, 3, 4]"
      ]
    },
    {
      "cell_type": "code",
      "execution_count": null,
      "metadata": {
        "id": "ntNC5QLaN2oC"
      },
      "outputs": [],
      "source": [
        "# Subtracting two arrays\n",
        "arr - arr"
      ]
    },
    {
      "cell_type": "code",
      "execution_count": null,
      "metadata": {
        "id": "SdpSXY6MN2oC"
      },
      "outputs": [],
      "source": [
        "# Multiplication\n",
        "arr * arr"
      ]
    },
    {
      "cell_type": "code",
      "execution_count": null,
      "metadata": {
        "id": "6s-to5o0N2oD"
      },
      "outputs": [],
      "source": [
        "# Division\n",
        "arr / arr\n",
        "# warning and 0/0 is replaced with nan"
      ]
    },
    {
      "cell_type": "code",
      "execution_count": null,
      "metadata": {
        "id": "-3aiXRdcN2oD"
      },
      "outputs": [],
      "source": [
        "1/arr #[0, 1, 2, 3, 4]\n",
        "# warning for 1/0, inf"
      ]
    },
    {
      "cell_type": "code",
      "execution_count": null,
      "metadata": {
        "id": "2EkTBxDlN2oD"
      },
      "outputs": [],
      "source": [
        "# Power of all the elements in an array\n",
        "arr ** 2"
      ]
    },
    {
      "cell_type": "code",
      "execution_count": null,
      "metadata": {
        "id": "GI7v-sm3N2oD"
      },
      "outputs": [],
      "source": [
        "# Multiplication with scalar\n",
        "2 * arr #[0, 1, 2, 3, 4]"
      ]
    },
    {
      "cell_type": "markdown",
      "metadata": {
        "id": "kWzc1CJAN2oD"
      },
      "source": [
        "## Universal functions\n",
        "\n",
        "NumPy have a range of built-in [universal functions](http://docs.scipy.org/doc/numpy/reference/ufuncs.html) (ufunc). These are essentially just mathematical operations and we can use them to perform specific task, associate with the function, across the NumPy array.<br>\n",
        "Let's learn with examples:"
      ]
    },
    {
      "cell_type": "code",
      "execution_count": null,
      "metadata": {
        "id": "NEEmdwJKN2oE"
      },
      "outputs": [],
      "source": [
        "# Square root\n",
        "np.sqrt(arr) #[0, 1, 2, 3, 4]"
      ]
    },
    {
      "cell_type": "code",
      "execution_count": null,
      "metadata": {
        "id": "Vcz_cvHRN2oE"
      },
      "outputs": [],
      "source": [
        "# max and min values\n",
        "np.max(arr), np.min(arr)"
      ]
    },
    {
      "cell_type": "code",
      "execution_count": null,
      "metadata": {
        "id": "T4EDTk_aN2oE"
      },
      "outputs": [],
      "source": [
        "arr.max()"
      ]
    },
    {
      "cell_type": "code",
      "execution_count": null,
      "metadata": {
        "id": "2k2tbbYBN2oF"
      },
      "outputs": [],
      "source": [
        "# Trigonometric functions, e.g. sin, cos, tan, arcsin, ......\n",
        "np.sin(arr)"
      ]
    },
    {
      "cell_type": "markdown",
      "metadata": {
        "id": "VyZlMrRJN2oF"
      },
      "source": [
        "**Generate the follow matrix \"array_2d\" and replicate the provided outputs.**"
      ]
    },
    {
      "cell_type": "code",
      "execution_count": null,
      "metadata": {
        "id": "kpt9PkX9N2oF"
      },
      "outputs": [],
      "source": [
        "#18a:\n",
        "# To avoid overwriting the output, please code here"
      ]
    },
    {
      "cell_type": "code",
      "execution_count": null,
      "metadata": {
        "scrolled": true,
        "id": "4Jh7vZt2N2oF"
      },
      "outputs": [],
      "source": [
        "array_2d= np.arange(30).reshape(6,5)\n",
        "array_2d"
      ]
    },
    {
      "cell_type": "markdown",
      "metadata": {
        "id": "Dt88NRbyN2oF"
      },
      "source": [
        "**Calculate the sum of all the numbers in array_2d?**"
      ]
    },
    {
      "cell_type": "code",
      "execution_count": null,
      "metadata": {
        "id": "xb4FD6g2N2oF"
      },
      "outputs": [],
      "source": [
        "array_2d.sum()"
      ]
    },
    {
      "cell_type": "code",
      "execution_count": null,
      "metadata": {
        "id": "CjN2nNUYN2oG"
      },
      "outputs": [],
      "source": [
        "array_2d.sum(axis=1)"
      ]
    },
    {
      "cell_type": "markdown",
      "metadata": {
        "id": "r8YR0kV_N2oG"
      },
      "source": [
        "**Calculate sum of all the rows and columns in array_2d.**"
      ]
    },
    {
      "cell_type": "code",
      "execution_count": null,
      "metadata": {
        "id": "74i1e48-N2oG"
      },
      "outputs": [],
      "source": [
        "# To avoid overwriting the output, please code here"
      ]
    },
    {
      "cell_type": "code",
      "execution_count": null,
      "metadata": {
        "id": "OByuZFAKN2oG"
      },
      "outputs": [],
      "source": [
        "print(\"Row sum:\", array_2d.sum(axis=1))\n",
        "print(\"Columns sum:\", array_2d.sum(axis=0))"
      ]
    },
    {
      "cell_type": "markdown",
      "metadata": {
        "id": "xCq4W8mdN2oG"
      },
      "source": [
        "**Calculate the standard deviation of the values in array_2d.**"
      ]
    },
    {
      "cell_type": "code",
      "execution_count": null,
      "metadata": {
        "id": "FlJYZvSMN2oG"
      },
      "outputs": [],
      "source": [
        "# To avoid overwriting the output, please code here"
      ]
    },
    {
      "cell_type": "code",
      "execution_count": null,
      "metadata": {
        "id": "AtjGf1tYN2oH"
      },
      "outputs": [],
      "source": [
        "array_2d.std()"
      ]
    },
    {
      "cell_type": "markdown",
      "metadata": {
        "id": "IUXcqWf1N2oH"
      },
      "source": [
        "**Create a boolean mask and list out the numbers that are not divisible by 3 in array_2d.**"
      ]
    },
    {
      "cell_type": "code",
      "execution_count": null,
      "metadata": {
        "id": "2XcNRR78N2oH"
      },
      "outputs": [],
      "source": [
        "# To avoid overwriting the output, please code here"
      ]
    },
    {
      "cell_type": "code",
      "execution_count": null,
      "metadata": {
        "id": "aWINrYGCN2oH"
      },
      "outputs": [],
      "source": [
        "array_2d"
      ]
    },
    {
      "cell_type": "code",
      "execution_count": null,
      "metadata": {
        "id": "75OLCMvIN2oI"
      },
      "outputs": [],
      "source": [
        "array_2d % 3 == 0"
      ]
    },
    {
      "cell_type": "code",
      "execution_count": null,
      "metadata": {
        "id": "Y_pI-nd5N2oI"
      },
      "outputs": [],
      "source": [
        "mask_mod_3 = 0 != array_2d % 3\n",
        "mask_mod_3"
      ]
    },
    {
      "cell_type": "code",
      "execution_count": null,
      "metadata": {
        "id": "IBq-nPTFN2oI"
      },
      "outputs": [],
      "source": [
        "mask_mod_3 = 0 != array_2d % 3  # Creating mask for the said condition\n",
        "array_2d[mask_mod_3]            # pass the boolean mask to array_2d to return the required results"
      ]
    },
    {
      "cell_type": "code",
      "execution_count": null,
      "metadata": {
        "id": "CVnHA9oWN2oI"
      },
      "outputs": [],
      "source": [
        "np.zeros(5)"
      ]
    },
    {
      "cell_type": "code",
      "execution_count": null,
      "metadata": {
        "id": "X4OGX01aN2oI"
      },
      "outputs": [],
      "source": []
    }
  ],
  "metadata": {
    "kernelspec": {
      "display_name": "Python 3 (ipykernel)",
      "language": "python",
      "name": "python3"
    },
    "language_info": {
      "codemirror_mode": {
        "name": "ipython",
        "version": 3
      },
      "file_extension": ".py",
      "mimetype": "text/x-python",
      "name": "python",
      "nbconvert_exporter": "python",
      "pygments_lexer": "ipython3",
      "version": "3.11.5"
    },
    "colab": {
      "provenance": [],
      "include_colab_link": true
    }
  },
  "nbformat": 4,
  "nbformat_minor": 0
}